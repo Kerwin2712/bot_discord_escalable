{
 "cells": [
  {
   "cell_type": "markdown",
   "id": "543d3b17",
   "metadata": {},
   "source": [
    "# Command creator for Discord bot"
   ]
  },
  {
   "cell_type": "code",
   "execution_count": 1,
   "id": "60a32c96",
   "metadata": {},
   "outputs": [],
   "source": [
    "import os\n",
    "import re\n",
    "from IPython.display import display, Markdown\n",
    "\n",
    "# --- Configuración de rutas (ajusta si es necesario) ---\n",
    "MAIN_MOD_DIR = \"main_mod\"\n",
    "COMMAND_MOD_DIR = \"command_mod\""
   ]
  },
  {
   "cell_type": "markdown",
   "id": "73c717e6",
   "metadata": {},
   "source": [
    "# --- Funciones auxiliares ---"
   ]
  },
  {
   "cell_type": "code",
   "execution_count": 2,
   "id": "9e4e11ab",
   "metadata": {},
   "outputs": [],
   "source": [
    "def sanitize_name(name):\n",
    "    \"\"\"Limpia el nombre para que sea un identificador Python válido.\"\"\"\n",
    "    name = re.sub(r'\\W|^(?=\\d)', '_', name) # Reemplaza caracteres no alfanuméricos con _ y asegura que no empiece con dígito\n",
    "    return name.lower()\n",
    "\n",
    "def get_valid_input(prompt, validation_regex=None):\n",
    "    \"\"\"Obtiene una entrada de usuario validada.\"\"\"\n",
    "    while True:\n",
    "        user_input = input(prompt).strip()\n",
    "        if user_input:\n",
    "            if validation_regex and not re.match(validation_regex, user_input):\n",
    "                print(\"Entrada inválida. Por favor, intenta de nuevo con el formato correcto.\")\n",
    "            else:\n",
    "                return user_input\n",
    "        else:\n",
    "            print(\"La entrada no puede estar vacía. Por favor, intenta de nuevo.\")\n",
    "\n",
    "def get_yes_no_input(prompt):\n",
    "    \"\"\"Obtiene una respuesta de sí/no.\"\"\"\n",
    "    while True:\n",
    "        response = input(f\"{prompt} (s/n): \").strip().lower()\n",
    "        if response in ['s', 'si', 'y', 'yes']:\n",
    "            return True\n",
    "        elif response in ['n', 'no']:\n",
    "            return False\n",
    "        else:\n",
    "            print(\"Respuesta inválida. Por favor, responde 's' o 'n'.\")"
   ]
  },
  {
   "cell_type": "markdown",
   "id": "27013263",
   "metadata": {},
   "source": [
    " --- Recopilación de información del comando ---"
   ]
  },
  {
   "cell_type": "markdown",
   "id": "f42841af",
   "metadata": {},
   "source": [
    "## Generador de Comandos para Bot de Discord"
   ]
  },
  {
   "cell_type": "code",
   "execution_count": 8,
   "id": "3e5323eb",
   "metadata": {},
   "outputs": [
    {
     "data": {
      "text/markdown": [
       "Nombre del comando generado: `saludar`"
      ],
      "text/plain": [
       "<IPython.core.display.Markdown object>"
      ]
     },
     "metadata": {},
     "output_type": "display_data"
    },
    {
     "data": {
      "text/markdown": [
       "\n",
       "--- Configuración del Botón 1 ---"
      ],
      "text/plain": [
       "<IPython.core.display.Markdown object>"
      ]
     },
     "metadata": {},
     "output_type": "display_data"
    },
    {
     "name": "stdout",
     "output_type": "stream",
     "text": [
      "Estilos de botón disponibles:\n",
      "  1: primary (azul)\n",
      "  2: secondary (gris)\n",
      "  3: success (verde)\n",
      "  4: danger (rojo)\n",
      "  5: link (enlace URL)\n",
      "Opción inválida. Por favor, elige un número del 1 al 5.\n",
      "Respuesta inválida. Por favor, responde 's' o 'n'.\n",
      "Acciones disponibles para el botón:\n",
      "  1: Enviar mensaje\n",
      "  2: Enviar recurso (link/imagen)\n",
      "  3: Acción compleja (ej. crear más botones - requiere lógica avanzada)\n"
     ]
    },
    {
     "data": {
      "text/markdown": [
       "\n",
       "--- Configuración del Botón 2 ---"
      ],
      "text/plain": [
       "<IPython.core.display.Markdown object>"
      ]
     },
     "metadata": {},
     "output_type": "display_data"
    },
    {
     "name": "stdout",
     "output_type": "stream",
     "text": [
      "Estilos de botón disponibles:\n",
      "  1: primary (azul)\n",
      "  2: secondary (gris)\n",
      "  3: success (verde)\n",
      "  4: danger (rojo)\n",
      "  5: link (enlace URL)\n",
      "Acciones disponibles para el botón:\n",
      "  1: Enviar mensaje\n",
      "  2: Enviar recurso (link/imagen)\n",
      "  3: Acción compleja (ej. crear más botones - requiere lógica avanzada)\n"
     ]
    }
   ],
   "source": [
    "command_name_raw = get_valid_input(\"Introduce el nombre del comando (ej. 'mi_comando', 'saludo_personalizado'): \")\n",
    "command_name = sanitize_name(command_name_raw)\n",
    "display(Markdown(f\"Nombre del comando generado: `{command_name}`\"))\n",
    "\n",
    "# Mensaje\n",
    "add_message = get_yes_no_input(\"¿Deseas que el comando envíe un mensaje de texto inicial?\")\n",
    "message_content = \"\"\n",
    "if add_message:\n",
    "    message_content = get_valid_input(\"Introduce el contenido del mensaje: \")\n",
    "\n",
    "# Recurso (Link/Imagen)\n",
    "add_resource = get_yes_no_input(\"¿Deseas que el comando envíe un recurso (link o imagen desde URL)?\")\n",
    "resource_url = \"\"\n",
    "if add_resource:\n",
    "    resource_url = get_valid_input(\"Introduce la URL del recurso: \", validation_regex=r\"https?://[^\\s]+\")\n",
    "\n",
    "# Botones\n",
    "add_buttons = get_yes_no_input(\"¿Deseas agregar botones al mensaje inicial?\")\n",
    "buttons_data = []\n",
    "if add_buttons:\n",
    "    while True:\n",
    "        try:\n",
    "            num_buttons = int(get_valid_input(\"¿Cuántos botones deseas agregar? \"))\n",
    "            if num_buttons > 0:\n",
    "                break\n",
    "            else:\n",
    "                print(\"Por favor, introduce un número mayor que 0.\")\n",
    "        except ValueError:\n",
    "            print(\"Entrada inválida. Por favor, introduce un número.\")\n",
    "\n",
    "    for i in range(num_buttons):\n",
    "        display(Markdown(f\"\\n--- Configuración del Botón {i+1} ---\"))\n",
    "        button_label = get_valid_input(f\"Etiqueta para el botón {i+1}: \")\n",
    "        button_style_options = {\n",
    "            '1': 'primary (azul)',\n",
    "            '2': 'secondary (gris)',\n",
    "            '3': 'success (verde)',\n",
    "            '4': 'danger (rojo)',\n",
    "            '5': 'link (enlace URL)'\n",
    "        }\n",
    "        print(\"Estilos de botón disponibles:\")\n",
    "        for key, value in button_style_options.items():\n",
    "            print(f\"  {key}: {value}\")\n",
    "        \n",
    "        while True:\n",
    "            style_choice = get_valid_input(f\"Elige el estilo para el botón {i+1} (1-5): \")\n",
    "            if style_choice in button_style_options:\n",
    "                button_style_str = {\n",
    "                    '1': 'discord.ButtonStyle.primary',\n",
    "                    '2': 'discord.ButtonStyle.secondary',\n",
    "                    '3': 'discord.ButtonStyle.success',\n",
    "                    '4': 'discord.ButtonStyle.danger',\n",
    "                    '5': 'discord.ButtonStyle.link'\n",
    "                }[style_choice]\n",
    "                break\n",
    "            else:\n",
    "                print(\"Opción inválida. Por favor, elige un número del 1 al 5.\")\n",
    "\n",
    "        button_url = \"\"\n",
    "        if style_choice == '5': # Link button\n",
    "            button_url = get_valid_input(f\"Introduce la URL para el botón {i+1} (obligatorio para estilo 'link'): \", validation_regex=r\"https?://[^\\s]+\")\n",
    "            button_custom_id = \"None\" # Link buttons don't use custom_id\n",
    "        else:\n",
    "            # Generate a unique custom_id for non-link buttons\n",
    "            button_custom_id = f'\"{command_name}_btn_{i+1}\"'\n",
    "\n",
    "        add_emoji = get_yes_no_input(f\"¿Deseas agregar un emoji al botón {i+1}?\")\n",
    "        button_emoji = \"\"\n",
    "        if add_emoji:\n",
    "            button_emoji = get_valid_input(f\"Introduce el emoji para el botón {i+1} (ej. '👍' o ID de emoji): \")\n",
    "            button_emoji = f'\"{button_emoji}\"' # Encerrar en comillas para el código\n",
    "\n",
    "        # Acción del botón\n",
    "        button_action_type = \"\"\n",
    "        button_action_content = \"\"\n",
    "        button_action_options = {\n",
    "            '1': 'Enviar mensaje',\n",
    "            '2': 'Enviar recurso (link/imagen)',\n",
    "            '3': 'Acción compleja (ej. crear más botones - requiere lógica avanzada)'\n",
    "        }\n",
    "        print(\"Acciones disponibles para el botón:\")\n",
    "        for key, value in button_action_options.items():\n",
    "            print(f\"  {key}: {value}\")\n",
    "        \n",
    "        while True:\n",
    "            action_choice = get_valid_input(f\"Elige la acción para el botón {i+1} (1-3): \")\n",
    "            if action_choice == '1':\n",
    "                button_action_type = \"message\"\n",
    "                button_action_content = get_valid_input(\"Contenido del mensaje a enviar al hacer clic: \")\n",
    "                break\n",
    "            elif action_choice == '2':\n",
    "                button_action_type = \"resource\"\n",
    "                button_action_content = get_valid_input(\"URL del recurso a enviar al hacer clic: \", validation_regex=r\"https?://[^\\s]+\")\n",
    "                break\n",
    "            elif action_choice == '3':\n",
    "                button_action_type = \"complex\"\n",
    "                button_action_content = \"Esta acción requiere lógica personalizada para generar más botones o un flujo complejo.\"\n",
    "                display(Markdown(\"⚠️ **Nota:** La acción 'crear más botones' en este script generará un mensaje indicando que se necesita lógica avanzada. Para una implementación completa, deberás añadir esa lógica manualmente en el callback del botón.\"))\n",
    "                break\n",
    "            else:\n",
    "                print(\"Opción inválida. Por favor, elige un número del 1 al 3.\")\n",
    "\n",
    "        buttons_data.append({\n",
    "            'label': button_label,\n",
    "            'style': button_style_str,\n",
    "            'custom_id': button_custom_id,\n",
    "            'url': f'\"{button_url}\"' if button_url else 'None',\n",
    "            'emoji': button_emoji if button_emoji else 'None',\n",
    "            'action_type': button_action_type,\n",
    "            'action_content': button_action_content\n",
    "        })"
   ]
  },
  {
   "cell_type": "markdown",
   "id": "19fbd3da",
   "metadata": {},
   "source": [
    "# --- Generación del código Python ---"
   ]
  },
  {
   "cell_type": "code",
   "execution_count": 9,
   "id": "b940017f",
   "metadata": {},
   "outputs": [
    {
     "data": {
      "text/markdown": [
       "---"
      ],
      "text/plain": [
       "<IPython.core.display.Markdown object>"
      ]
     },
     "metadata": {},
     "output_type": "display_data"
    },
    {
     "data": {
      "text/markdown": [
       "**¡Comando generado exitosamente!**"
      ],
      "text/plain": [
       "<IPython.core.display.Markdown object>"
      ]
     },
     "metadata": {},
     "output_type": "display_data"
    },
    {
     "data": {
      "text/markdown": [
       "El archivo `c:\\Users\\EQUIPO DELL\\Desktop\\Proyectos_Python\\bot_discord_escalable\\command_mod\\cmd_saludar.py` ha sido creado."
      ],
      "text/plain": [
       "<IPython.core.display.Markdown object>"
      ]
     },
     "metadata": {},
     "output_type": "display_data"
    },
    {
     "data": {
      "text/markdown": [
       "Para integrar este comando en tu bot, añade la siguiente línea en tu `bot.py` (dentro de `on_ready` o en una función de carga de extensiones):"
      ],
      "text/plain": [
       "<IPython.core.display.Markdown object>"
      ]
     },
     "metadata": {},
     "output_type": "display_data"
    },
    {
     "data": {
      "text/markdown": [
       "```python\n",
       "    await bot.load_extension(f'command_mod.cmd_saludar')\n",
       "```"
      ],
      "text/plain": [
       "<IPython.core.display.Markdown object>"
      ]
     },
     "metadata": {},
     "output_type": "display_data"
    },
    {
     "data": {
      "text/markdown": [
       "Recuerda que para que los comandos de barra (`/`) se actualicen, el bot debe ser reiniciado o los comandos sincronizados manualmente."
      ],
      "text/plain": [
       "<IPython.core.display.Markdown object>"
      ]
     },
     "metadata": {},
     "output_type": "display_data"
    }
   ],
   "source": [
    "generated_code = f\"\"\"\n",
    "# cmd_{command_name}.py\n",
    "# Este archivo fue generado automáticamente por create_discord_command.ipynb\n",
    "\n",
    "import discord\n",
    "from discord.ext import commands\n",
    "# Importa desde main_mod ya que send_message, send_resource, create_button están allí\n",
    "from {MAIN_MOD_DIR}.send_message import send_text_message\n",
    "from {MAIN_MOD_DIR}.send_resource import send_resource_message\n",
    "from {MAIN_MOD_DIR}.create_button import create_button_component # Usado para crear los objetos Button\n",
    "\n",
    "class {command_name.replace('_', '').title()}Command(commands.Cog):\n",
    "    def __init__(self, bot):\n",
    "        self.bot = bot\n",
    "\n",
    "    @commands.command(name=\"{command_name}\")\n",
    "    async def {command_name}_command(self, ctx: commands.Context):\n",
    "        \\\"\\\"\\\"\n",
    "        Comando '{command_name}'\n",
    "        \\\"\\\"\\\"\n",
    "        print(f\"Comando '{command_name}' invocado por {{ctx.author.name}}\")\n",
    "\n",
    "\"\"\"\n",
    "\n",
    "if add_message:\n",
    "    generated_code += f\"\"\"\n",
    "        await send_text_message(ctx, \"{message_content}\")\n",
    "\"\"\"\n",
    "\n",
    "if add_resource:\n",
    "    generated_code += f\"\"\"\n",
    "        await send_resource_message(ctx, \"{resource_url}\")\n",
    "\"\"\"\n",
    "\n",
    "if add_buttons:\n",
    "    generated_code += f\"\"\"\n",
    "        # Definir una vista (View) para los botones\n",
    "        class {command_name.replace('_', '').title()}View(discord.ui.View):\n",
    "            def __init__(self, original_ctx):\n",
    "                super().__init__(timeout=180) # Los botones expiran después de 3 minutos\n",
    "                self.original_ctx = original_ctx\n",
    "\n",
    "\"\"\"\n",
    "    for i, btn in enumerate(buttons_data):\n",
    "        # Construir dinámicamente los argumentos para el decorador @discord.ui.button\n",
    "        button_args = [\n",
    "            f'label=\"{btn[\"label\"]}\"',\n",
    "            f'style={btn[\"style\"]}'\n",
    "        ]\n",
    "        if btn['custom_id'] != 'None': # custom_id solo si no es un botón de enlace\n",
    "            button_args.append(f'custom_id={btn[\"custom_id\"]}')\n",
    "        if btn['url'] != 'None': # url solo si es un botón de enlace\n",
    "            button_args.append(f'url={btn[\"url\"]}')\n",
    "        if btn['emoji'] != 'None': # emoji solo si se proporcionó\n",
    "            button_args.append(f'emoji={btn[\"emoji\"]}')\n",
    "\n",
    "        generated_code += f\"\"\"\n",
    "            @discord.ui.button({', '.join(button_args)})\n",
    "            async def button_{i+1}_callback(self, interaction: discord.Interaction, button: discord.ui.Button):\n",
    "                await interaction.response.defer(ephemeral=True) # Defer the interaction to avoid \"This interaction failed\"\n",
    "\n",
    "\"\"\"\n",
    "        if btn['action_type'] == \"message\":\n",
    "            generated_code += f\"\"\"\n",
    "                await interaction.followup.send(\"{btn['action_content']}\", ephemeral=True)\n",
    "\"\"\"\n",
    "        elif btn['action_type'] == \"resource\":\n",
    "            generated_code += f\"\"\"\n",
    "                await send_resource_message(self.original_ctx, \"{btn['action_content']}\")\n",
    "                await interaction.followup.send(\"Recurso enviado.\", ephemeral=True)\n",
    "\"\"\"\n",
    "        elif btn['action_type'] == \"complex\":\n",
    "            generated_code += f\"\"\"\n",
    "                await interaction.followup.send(\"Esta acción ('{btn['action_content']}') requiere lógica avanzada. Implementa aquí la creación de más botones o un flujo complejo.\", ephemeral=True)\n",
    "\"\"\"\n",
    "\n",
    "    generated_code += f\"\"\"\n",
    "        view = {command_name.replace('_', '').title()}View(ctx)\n",
    "        await ctx.send(\"Aquí tienes los botones:\", view=view)\n",
    "\n",
    "\"\"\"\n",
    "\n",
    "generated_code += f\"\"\"\n",
    "async def setup(bot):\n",
    "    await bot.add_cog({command_name.replace('_', '').title()}Command(bot))\n",
    "\n",
    "\"\"\"\n",
    "\n",
    "# --- Guardar el archivo ---\n",
    "\n",
    "# CAMBIO AQUI: La salida ahora va a la carpeta 'command_mod'\n",
    "output_dir = os.path.join(os.getcwd(), COMMAND_MOD_DIR)\n",
    "os.makedirs(output_dir, exist_ok=True) # Asegurarse de que el directorio exista\n",
    "\n",
    "output_filename = os.path.join(output_dir, f\"cmd_{command_name}.py\")\n",
    "\n",
    "with open(output_filename, \"w\", encoding=\"utf-8\") as f:\n",
    "    f.write(generated_code)\n",
    "\n",
    "display(Markdown(f\"---\"))\n",
    "display(Markdown(f\"**¡Comando generado exitosamente!**\"))\n",
    "display(Markdown(f\"El archivo `{output_filename}` ha sido creado.\"))\n",
    "display(Markdown(f\"Para integrar este comando en tu bot, añade la siguiente línea en tu `bot.py` (dentro de `on_ready` o en una función de carga de extensiones):\"))\n",
    "display(Markdown(f\"```python\\n    await bot.load_extension(f'{COMMAND_MOD_DIR}.cmd_{command_name}')\\n```\"))\n",
    "display(Markdown(f\"Recuerda que para que los comandos de barra (`/`) se actualicen, el bot debe ser reiniciado o los comandos sincronizados manualmente.\"))"
   ]
  }
 ],
 "metadata": {
  "kernelspec": {
   "display_name": "bot",
   "language": "python",
   "name": "python3"
  },
  "language_info": {
   "codemirror_mode": {
    "name": "ipython",
    "version": 3
   },
   "file_extension": ".py",
   "mimetype": "text/x-python",
   "name": "python",
   "nbconvert_exporter": "python",
   "pygments_lexer": "ipython3",
   "version": "3.13.3"
  }
 },
 "nbformat": 4,
 "nbformat_minor": 5
}
